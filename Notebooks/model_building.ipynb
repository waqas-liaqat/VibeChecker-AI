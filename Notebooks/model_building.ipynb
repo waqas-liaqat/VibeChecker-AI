{
 "cells": [
  {
   "cell_type": "markdown",
   "metadata": {},
   "source": [
    "# **Model Building**"
   ]
  },
  {
   "cell_type": "markdown",
   "metadata": {},
   "source": [
    "## **1.0 import Libraries**"
   ]
  },
  {
   "cell_type": "code",
   "execution_count": 1,
   "metadata": {},
   "outputs": [],
   "source": [
    "# For Data Manipulation\n",
    "import pandas as pd\n",
    "import numpy as np\n",
    "import pickle\n",
    "# Models\n",
    "from sklearn.linear_model import LogisticRegression\n",
    "from sklearn.naive_bayes import MultinomialNB\n",
    "# Import metrics\n",
    "from sklearn.metrics import accuracy_score, classification_report, confusion_matrix\n",
    "# For Grid Search\n",
    "from sklearn.model_selection import GridSearchCV\n",
    "\n",
    "# Ignore warnings\n",
    "import warnings\n",
    "warnings.filterwarnings('ignore')"
   ]
  },
  {
   "cell_type": "markdown",
   "metadata": {},
   "source": [
    "## **2.0 Load Data**"
   ]
  },
  {
   "cell_type": "code",
   "execution_count": 2,
   "metadata": {},
   "outputs": [],
   "source": [
    "x_train=pd.read_csv('../Artifacts/x_train.csv').fillna('')\n",
    "x_test=pd.read_csv('../Artifacts/x_test.csv').fillna('')\n",
    "y_train=pd.read_csv('../Artifacts/y_train.csv')\n",
    "y_test=pd.read_csv('../Artifacts/y_test.csv')"
   ]
  },
  {
   "cell_type": "code",
   "execution_count": 3,
   "metadata": {},
   "outputs": [
    {
     "name": "stdout",
     "output_type": "stream",
     "text": [
      "(1266952, 333132) (316739, 333132)\n"
     ]
    }
   ],
   "source": [
    "# Load vectorizer\n",
    "vectorizer = pickle.load(open('../Artifacts/vectorizer.pkl', 'rb'))\n",
    "\n",
    "# Transform text data\n",
    "x_train = vectorizer.transform(x_train['Tweet'])  # No .toarray()\n",
    "x_test = vectorizer.transform(x_test['Tweet'])    # No .toarray()\n",
    "\n",
    "\n",
    "print(x_train.shape, x_test.shape)"
   ]
  },
  {
   "cell_type": "code",
   "execution_count": 4,
   "metadata": {},
   "outputs": [],
   "source": [
    "y_train=np.array(y_train)\n",
    "y_test=np.array(y_test)"
   ]
  },
  {
   "cell_type": "code",
   "execution_count": 5,
   "metadata": {},
   "outputs": [
    {
     "data": {
      "text/plain": [
       "<Compressed Sparse Row sparse matrix of dtype 'float64'\n",
       "\twith 42 stored elements and shape (5, 333132)>"
      ]
     },
     "execution_count": 5,
     "metadata": {},
     "output_type": "execute_result"
    }
   ],
   "source": [
    "x_train[0:5]"
   ]
  },
  {
   "cell_type": "markdown",
   "metadata": {},
   "source": [
    "## **4.0 Model Building**"
   ]
  },
  {
   "cell_type": "code",
   "execution_count": 6,
   "metadata": {},
   "outputs": [
    {
     "name": "stdout",
     "output_type": "stream",
     "text": [
      "Logistic Regression\n",
      "Validation Score: 0.7775014367294946\n",
      "accuracy score: 0.7782274996132462\n",
      "-----------------\n",
      "Multinomial Naive Bayes\n",
      "Validation Score: 0.7620201861379222\n",
      "accuracy score: 0.7620185704949501\n",
      "-----------------\n",
      "Best Model: Logistic Regression\n",
      "Best Params: {'C': 1, 'penalty': 'l2', 'solver': 'liblinear'}\n"
     ]
    }
   ],
   "source": [
    "models={'Logistic Regression':(LogisticRegression(),{\"C\": [0.01, 0.1, 1, 10, 100],\"penalty\": [\"l1\", \"l2\"], \"solver\": [\"liblinear\"]}),\n",
    "        'Multinomial Naive Bayes':(MultinomialNB(),{\"alpha\": [0.01, 0.1, 1, 10],\"fit_prior\": [True, False]})\n",
    "        }\n",
    "\n",
    "best_score=0\n",
    "for name, (model, params) in models.items():\n",
    "    search=GridSearchCV(model,params,cv=5,scoring='accuracy',n_jobs=-1)\n",
    "    search.fit(x_train,y_train)\n",
    "    y_pred=search.best_estimator_.predict(x_test)\n",
    "    score=accuracy_score(y_test,y_pred)\n",
    "    print(f\"{name}\")\n",
    "    print(f\"Validation Score: {search.best_score_}\")\n",
    "    print(f\"accuracy score: {score}\")\n",
    "    print(\"-----------------\")\n",
    "    if score>best_score:\n",
    "        best_score=score\n",
    "        Best_model_name=name\n",
    "        Best_model = search.best_estimator_\n",
    "        Best_Params=search.best_params_\n",
    "\n",
    "print(f\"Best Model: {Best_model_name}\")\n",
    "print(f\"Best Params: {Best_Params}\")"
   ]
  },
  {
   "cell_type": "code",
   "execution_count": 7,
   "metadata": {},
   "outputs": [
    {
     "name": "stdout",
     "output_type": "stream",
     "text": [
      "Best model saved as Logistic Regression.pkl\n"
     ]
    }
   ],
   "source": [
    "# Save the best model in .pkl format\n",
    "with open(f\"../Artifacts/{Best_model_name}.pkl\",\"wb\") as model_file:\n",
    "    pickle.dump(Best_model,model_file)\n",
    "print(f\"Best model saved as {Best_model_name}.pkl\")"
   ]
  }
 ],
 "metadata": {
  "kernelspec": {
   "display_name": "nlp",
   "language": "python",
   "name": "python3"
  },
  "language_info": {
   "codemirror_mode": {
    "name": "ipython",
    "version": 3
   },
   "file_extension": ".py",
   "mimetype": "text/x-python",
   "name": "python",
   "nbconvert_exporter": "python",
   "pygments_lexer": "ipython3",
   "version": "3.13.1"
  }
 },
 "nbformat": 4,
 "nbformat_minor": 2
}
